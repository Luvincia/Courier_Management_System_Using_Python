{
 "cells": [
  {
   "cell_type": "markdown",
   "id": "91074a85",
   "metadata": {},
   "source": [
    "1. Creating a dictionary to store the information of shipments"
   ]
  },
  {
   "cell_type": "code",
   "execution_count": 1,
   "id": "986438ec",
   "metadata": {},
   "outputs": [
    {
     "data": {
      "text/plain": [
       "{101: [1, 3, '14-03-2020', '25-03-2020', 'Area1', 'Area6', 'Delivered', 198],\n",
       " 102: [4, 1, '18-06-2020', '09-07-2020', 'Area2', 'Area4', 'Delivered', 275],\n",
       " 103: [2, 3, '01-12-2020', 'Null', 'Area5', 'Area1', 'In-Transit', 200],\n",
       " 104: [1, 5, '23-06-2020', '25-06-2020', 'Area1', 'Area4', 'Delivered', 341],\n",
       " 105: [3, 4, '29-08-2020', '10-09-2020', 'Area5', 'Area3', 'Delivered', 275],\n",
       " 106: [5, 2, '28-06-2020', 'Null', 'Area3', 'Area1', 'In-Transit', 270]}"
      ]
     },
     "execution_count": 1,
     "metadata": {},
     "output_type": "execute_result"
    }
   ],
   "source": [
    "shipment_information = {}\n",
    "\n",
    "shipment_information[101] = [1,3,'14-03-2020','25-03-2020','Area1','Area6','Delivered',198]\n",
    "shipment_information[102] = [4,1,'18-06-2020','09-07-2020','Area2','Area4','Delivered',275]\n",
    "shipment_information[103] = [2,3,'01-12-2020','Null','Area5','Area1','In-Transit',200]\n",
    "shipment_information[104] = [1,5,'23-06-2020','25-06-2020','Area1','Area4','Delivered',341]\n",
    "shipment_information[105] = [3,4,'29-08-2020','10-09-2020','Area5','Area3','Delivered',275]\n",
    "shipment_information[106] = [5,2,'28-06-2020','Null','Area3','Area1','In-Transit',270]\n",
    "\n",
    "shipment_information"
   ]
  },
  {
   "cell_type": "markdown",
   "id": "bd70c9db",
   "metadata": {},
   "source": [
    "2. Creating a dictionary to store the information of clients"
   ]
  },
  {
   "cell_type": "code",
   "execution_count": 2,
   "id": "d0669e27",
   "metadata": {},
   "outputs": [
    {
     "data": {
      "text/plain": [
       "{1: 'Phillip', 2: 'Omega III', 3: 'Ramya', 4: 'Romesh', 5: 'John'}"
      ]
     },
     "execution_count": 2,
     "metadata": {},
     "output_type": "execute_result"
    }
   ],
   "source": [
    "client_information = {}\n",
    "\n",
    "client_information[1] = 'Phillip'\n",
    "client_information[2] = 'Omega III'\n",
    "client_information[3] = 'Ramya'\n",
    "client_information[4] = 'Romesh'\n",
    "client_information[5] = 'John'\n",
    "\n",
    "client_information"
   ]
  },
  {
   "cell_type": "markdown",
   "id": "0b8af309",
   "metadata": {},
   "source": [
    "3. Writing a code to replace client's id with their respective name in shipment dictionary using a loop and dictionary comprehension."
   ]
  },
  {
   "cell_type": "code",
   "execution_count": 3,
   "id": "a30f20e7",
   "metadata": {},
   "outputs": [
    {
     "name": "stdout",
     "output_type": "stream",
     "text": [
      "{101: {'Sender': 'Phillip', 'Receiver': 'Ramya', 'Start_date': '14-03-2020', 'Delivery_date': '25-03-2020', 'Sender_location': 'Area 1', 'Receiver_location': 'Area 6', 'Delivery_status': 'Delivered', 'Shipping_cost': 198}, 102: {'Sender': 'Romesh', 'Receiver': 'Phillip', 'Start_date': '18-06-2020', 'Delivery_date': '09-07-2020', 'Sender_location': 'Area 2', 'Receiver_location': 'Area 4', 'Delivery_status': 'Delivered', 'Shipping_cost': 275}, 103: {'Sender': 'Omega III', 'Receiver': 'Ramya', 'Start_date': '01-12-2020', 'Delivery_date': 'Null', 'Sender_location': 'Area 5', 'Receiver_location': 'Area 1', 'Delivery_status': 'In Transit', 'Shipping_cost': 200}, 104: {'Sender': 'Phillip', 'Receiver': 'John', 'Start_date': '23-06-2020', 'Delivery_date': '25-06-2020', 'Sender_location': 'Area 1', 'Receiver_location': 'Area 4', 'Delivery_status': 'Delivered', 'Shipping_cost': 314}, 105: {'Sender': 'Ramya', 'Receiver': 'Romesh', 'Start_date': '29-08-2020', 'Delivery_date': '10-09-2020', 'Sender_location': 'Area 5', 'Receiver_location': 'Area 3', 'Delivery_status': 'Delivered', 'Shipping_cost': 275}, 106: {'Sender': 'John', 'Receiver': 'Omega III', 'Start_date': '28-06-2020', 'Delivery_date': 'Null', 'Sender_location': 'Area 3', 'Receiver_location': 'Area 1', 'Delivery_status': 'In Transit', 'Shipping_cost': 270}}\n"
     ]
    }
   ],
   "source": [
    "shipment_info ={101:{'Sender':1,'Receiver':3,'Start_date':'14-03-2020','Delivery_date':'25-03-2020','Sender_location':'Area 1','Receiver_location':'Area 6','Delivery_status':'Delivered','Shipping_cost':198},\n",
    "                102:{'Sender':4,'Receiver':1,'Start_date':'18-06-2020','Delivery_date':'09-07-2020','Sender_location':'Area 2','Receiver_location':'Area 4','Delivery_status':'Delivered','Shipping_cost':275},\n",
    "                103:{'Sender':2,'Receiver':3,'Start_date':'01-12-2020','Delivery_date':'Null','Sender_location':'Area 5','Receiver_location':'Area 1','Delivery_status':'In Transit','Shipping_cost':200}, \n",
    "                104:{'Sender':1,'Receiver':5,'Start_date':'23-06-2020','Delivery_date':'25-06-2020','Sender_location':'Area 1','Receiver_location':'Area 4','Delivery_status':'Delivered','Shipping_cost':314}, \n",
    "                105:{'Sender':3,'Receiver':4,'Start_date':'29-08-2020','Delivery_date':'10-09-2020','Sender_location':'Area 5','Receiver_location':'Area 3','Delivery_status':'Delivered','Shipping_cost':275}, \n",
    "                106:{'Sender':5,'Receiver':2,'Start_date':'28-06-2020','Delivery_date':'Null','Sender_location':'Area 3','Receiver_location':'Area 1','Delivery_status':'In Transit','Shipping_cost':270}}\n",
    "\n",
    "\n",
    "new_shipment_info = {}\n",
    "\n",
    "for key, value in shipment_info.items():\n",
    "    new_value = {k: client_information[v] if k in ('Sender', 'Receiver') else v for k,v in value.items()}\n",
    "    new_shipment_info[key] = new_value\n",
    "        \n",
    "print(new_shipment_info)"
   ]
  },
  {
   "cell_type": "markdown",
   "id": "eb72c5f0",
   "metadata": {},
   "source": [
    "4. Print all shipment details that are sent by Phillip"
   ]
  },
  {
   "cell_type": "code",
   "execution_count": 4,
   "id": "652a5e3b",
   "metadata": {},
   "outputs": [
    {
     "name": "stdout",
     "output_type": "stream",
     "text": [
      "{101: {'Sender': 'Phillip', 'Receiver': 'Ramya', 'Start_date': '14-03-2020', 'Delivery_date': '25-03-2020', 'Sender_location': 'Area 1', 'Receiver_location': 'Area 6', 'Delivery_status': 'Delivered', 'Shipping_cost': 198}}\n",
      "{104: {'Sender': 'Phillip', 'Receiver': 'John', 'Start_date': '23-06-2020', 'Delivery_date': '25-06-2020', 'Sender_location': 'Area 1', 'Receiver_location': 'Area 4', 'Delivery_status': 'Delivered', 'Shipping_cost': 314}}\n"
     ]
    }
   ],
   "source": [
    "for k,i in new_shipment_info.items():\n",
    "    if i['Sender'] == client_information[1]:\n",
    "        print({k:i})"
   ]
  },
  {
   "cell_type": "markdown",
   "id": "cee8a17b",
   "metadata": {},
   "source": [
    "5. Print all shipment details that are received by Ramya"
   ]
  },
  {
   "cell_type": "code",
   "execution_count": 5,
   "id": "78e73c98",
   "metadata": {},
   "outputs": [
    {
     "name": "stdout",
     "output_type": "stream",
     "text": [
      "{101: {'Sender': 'Phillip', 'Receiver': 'Ramya', 'Start_date': '14-03-2020', 'Delivery_date': '25-03-2020', 'Sender_location': 'Area 1', 'Receiver_location': 'Area 6', 'Delivery_status': 'Delivered', 'Shipping_cost': 198}}\n",
      "{103: {'Sender': 'Omega III', 'Receiver': 'Ramya', 'Start_date': '01-12-2020', 'Delivery_date': 'Null', 'Sender_location': 'Area 5', 'Receiver_location': 'Area 1', 'Delivery_status': 'In Transit', 'Shipping_cost': 200}}\n"
     ]
    }
   ],
   "source": [
    "for k,i in new_shipment_info.items():\n",
    "    if i['Receiver'] == client_information[3]:\n",
    "        print({k:i})"
   ]
  },
  {
   "cell_type": "markdown",
   "id": "0bc59598",
   "metadata": {},
   "source": [
    "6. Print all shipments which are in 'In-Transit' status"
   ]
  },
  {
   "cell_type": "code",
   "execution_count": 6,
   "id": "e25f07cd",
   "metadata": {},
   "outputs": [
    {
     "name": "stdout",
     "output_type": "stream",
     "text": [
      "{103: {'Sender': 'Omega III', 'Receiver': 'Ramya', 'Start_date': '01-12-2020', 'Delivery_date': 'Null', 'Sender_location': 'Area 5', 'Receiver_location': 'Area 1', 'Delivery_status': 'In Transit', 'Shipping_cost': 200}}\n",
      "{106: {'Sender': 'John', 'Receiver': 'Omega III', 'Start_date': '28-06-2020', 'Delivery_date': 'Null', 'Sender_location': 'Area 3', 'Receiver_location': 'Area 1', 'Delivery_status': 'In Transit', 'Shipping_cost': 270}}\n"
     ]
    }
   ],
   "source": [
    "for k,i in new_shipment_info.items():\n",
    "    if i['Delivery_status'] == 'In Transit':\n",
    "        print({k:i})"
   ]
  },
  {
   "cell_type": "markdown",
   "id": "9d808216",
   "metadata": {},
   "source": [
    "7. Print all shipments which are delivered within 7 days of courier Start date"
   ]
  },
  {
   "cell_type": "code",
   "execution_count": 7,
   "id": "547b7abc",
   "metadata": {},
   "outputs": [
    {
     "name": "stdout",
     "output_type": "stream",
     "text": [
      "{104: {'Sender': 'Phillip', 'Receiver': 'John', 'Start_date': '23-06-2020', 'Delivery_date': '25-06-2020', 'Sender_location': 'Area 1', 'Receiver_location': 'Area 4', 'Delivery_status': 'Delivered', 'Shipping_cost': 314}}\n"
     ]
    }
   ],
   "source": [
    "from datetime import datetime\n",
    "\n",
    "for k,i in new_shipment_info.items():\n",
    "    if i[\"Delivery_date\"] == \"Null\":\n",
    "        continue\n",
    "\n",
    "    start_date = datetime.strptime(i[\"Start_date\"], \"%d-%m-%Y\")\n",
    "    delivery_date = datetime.strptime(i[\"Delivery_date\"], \"%d-%m-%Y\")\n",
    "\n",
    "    if (delivery_date - start_date).days <= 7:\n",
    "        print({k:i})"
   ]
  },
  {
   "cell_type": "markdown",
   "id": "0bb1d961",
   "metadata": {},
   "source": [
    "8. Print all shipments which are delivered after 15 days of courier start date or not yet been delivered."
   ]
  },
  {
   "cell_type": "code",
   "execution_count": 8,
   "id": "00ec850b",
   "metadata": {},
   "outputs": [
    {
     "name": "stdout",
     "output_type": "stream",
     "text": [
      "{'Sender': 4, 'Receiver': 1, 'Start_date': '18-06-2020', 'Delivery_date': '09-07-2020', 'Sender_location': 'Area 2', 'Receiver_location': 'Area 4', 'Delivery_status': 'Delivered', 'Shipping_cost': 275}\n"
     ]
    }
   ],
   "source": [
    "from datetime import datetime\n",
    "\n",
    "for i in shipment_info.values():\n",
    "    if i['Delivery_date'] == \"Null\":\n",
    "        continue\n",
    "        \n",
    "    start_date = datetime.strptime(i[\"Start_date\"],\"%d-%m-%Y\")\n",
    "    delivery_date = datetime.strptime(i[\"Delivery_date\"],\"%d-%m-%Y\")\n",
    "    \n",
    "    if (delivery_date - start_date ).days >= 15:\n",
    "        print(i)"
   ]
  },
  {
   "cell_type": "markdown",
   "id": "8e37c297",
   "metadata": {},
   "source": [
    "9. Write a function find_all_routes to display all possible routes from senders location to receivers location given in the dictionary for each shipment."
   ]
  },
  {
   "cell_type": "code",
   "execution_count": 1,
   "id": "b23a70aa",
   "metadata": {},
   "outputs": [
    {
     "name": "stdout",
     "output_type": "stream",
     "text": [
      "pathfound [1, 2, 3, 4, 5]\n",
      "back\n",
      "back\n",
      "back\n",
      "back\n",
      "pathfound [1, 2, 4, 5]\n",
      "back\n",
      "back\n",
      "back\n",
      "back\n"
     ]
    }
   ],
   "source": [
    "def retunpath(startindex):\n",
    "    possible = []\n",
    "    for x in range(0, len(route[startindex-1])):\n",
    "        if(route[startindex-1][x] == 1):\n",
    "            possible.append(x+1)\n",
    "    return possible\n",
    "route = [\n",
    "    [0, 1, 0, 0, 0, 1],\n",
    "    [1, 0, 1, 1, 0, 0],\n",
    "    [0, 1, 0, 1, 0, 0],\n",
    "    [0, 1, 1, 0, 1, 0],\n",
    "    [0, 0, 0, 1, 0, 0],\n",
    "    [1, 0, 0, 0, 0, 0]\n",
    "]\n",
    "level = 1 #level \n",
    "start = 1 # starting node\n",
    "end = 5 # which destination you want to reach\n",
    "possiblepath = [] # returns all the possible node from which we can travel\n",
    "visitednode = {}  #save the path against level\n",
    "flowstart = [] #in which  flow we are moving\n",
    "temp = []\n",
    "front = True # going down and up\n",
    "while(1):\n",
    "    if(front):\n",
    "        flowstart.append(start)\n",
    "    possiblepath = retunpath(start).copy()\n",
    "    if(not front):\n",
    "        for y in visitednode[level]:\n",
    "            temp = [y[0], y[1]]\n",
    "            if(temp in visitednode[level] and (possiblepath.count(y[1]))):\n",
    "                possiblepath.pop(possiblepath.index(y[1]))\n",
    "    temp = []\n",
    "    for x in possiblepath:  \n",
    "        if(flowstart.count(x) < 1):\n",
    "            temp.append([start, x])\n",
    "            if(end == x):\n",
    "                print(\"pathfound\", flowstart+[x])\n",
    "            try:\n",
    "                visitednode[level].append([start, x])\n",
    "            except:\n",
    "                visitednode[level]=temp\n",
    "            start = x\n",
    "            level = level+1\n",
    "            front=True\n",
    "            break\n",
    "    else:\n",
    "        print(\"back\")\n",
    "        flowstart.pop()\n",
    "        start = flowstart[len(flowstart)-1]\n",
    "        level = level-1\n",
    "        front=False\n",
    "        if(flowstart == [start]):\n",
    "            if(len(visitednode[level]) == len(retunpath(start))):\n",
    "                break"
   ]
  },
  {
   "cell_type": "code",
   "execution_count": null,
   "id": "fd20803e",
   "metadata": {},
   "outputs": [],
   "source": []
  }
 ],
 "metadata": {
  "kernelspec": {
   "display_name": "Python 3 (ipykernel)",
   "language": "python",
   "name": "python3"
  },
  "language_info": {
   "codemirror_mode": {
    "name": "ipython",
    "version": 3
   },
   "file_extension": ".py",
   "mimetype": "text/x-python",
   "name": "python",
   "nbconvert_exporter": "python",
   "pygments_lexer": "ipython3",
   "version": "3.9.7"
  }
 },
 "nbformat": 4,
 "nbformat_minor": 5
}
